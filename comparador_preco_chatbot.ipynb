{
  "nbformat": 4,
  "nbformat_minor": 0,
  "metadata": {
    "colab": {
      "provenance": [],
      "authorship_tag": "ABX9TyMdGTTGfRL9dnZ/8mKlHb3H",
      "include_colab_link": true
    },
    "kernelspec": {
      "name": "python3",
      "display_name": "Python 3"
    },
    "language_info": {
      "name": "python"
    }
  },
  "cells": [
    {
      "cell_type": "markdown",
      "metadata": {
        "id": "view-in-github",
        "colab_type": "text"
      },
      "source": [
        "<a href=\"https://colab.research.google.com/github/FXOliveira/Chatbot-Comparador-de-Precos-Gemini/blob/main/comparador_preco_chatbot.ipynb\" target=\"_parent\"><img src=\"https://colab.research.google.com/assets/colab-badge.svg\" alt=\"Open In Colab\"/></a>"
      ]
    },
    {
      "cell_type": "code",
      "execution_count": null,
      "metadata": {
        "id": "5kXixgpmtjiV"
      },
      "outputs": [],
      "source": [
        "#INSTALLING PYTHON SDK\n",
        "\n",
        "!pip install -q -U google-generativeai"
      ]
    },
    {
      "cell_type": "code",
      "source": [
        "#api key setup - don't share with anyone\n",
        "\n",
        "from google.colab import userdata\n",
        "import google.generativeai as genai\n",
        "\n",
        "GOOGLE_API_KEY = userdata.get('SECRET_KEY');\n",
        "\n",
        "genai.configure(api_key=GOOGLE_API_KEY)\n"
      ],
      "metadata": {
        "id": "PFPQ3Oont0Qv"
      },
      "execution_count": 1,
      "outputs": []
    },
    {
      "cell_type": "code",
      "source": [
        "#LIST AVAILABLE GEMINI MODELS\n",
        "\n",
        "for model in genai.list_models():\n",
        "  if 'generateContent' in model.supported_generation_methods:\n",
        "    print(model.name)\n"
      ],
      "metadata": {
        "colab": {
          "base_uri": "https://localhost:8080/",
          "height": 225
        },
        "id": "VJQCkL8A0Vkw",
        "outputId": "ea509770-f470-4d90-ab7d-b0c837a5c991"
      },
      "execution_count": null,
      "outputs": [
        {
          "output_type": "stream",
          "name": "stdout",
          "text": [
            "models/gemini-1.0-pro\n",
            "models/gemini-1.0-pro-001\n",
            "models/gemini-1.0-pro-latest\n",
            "models/gemini-1.0-pro-vision-latest\n",
            "models/gemini-1.5-flash\n",
            "models/gemini-1.5-flash-001\n",
            "models/gemini-1.5-flash-latest\n",
            "models/gemini-1.5-pro\n",
            "models/gemini-1.5-pro-001\n",
            "models/gemini-1.5-pro-latest\n",
            "models/gemini-pro\n",
            "models/gemini-pro-vision\n"
          ]
        }
      ]
    },
    {
      "cell_type": "code",
      "source": [
        "\n",
        "#candidate_count -> number of possible answers for a request\n",
        "#temperature ->\n",
        "    #closer to 1 -> model is gonna behave creatively\n",
        "    #closer to 0 -> model is gonna be more precise\n",
        "generation_config = {\n",
        "    'candidate_count': 1,\n",
        "    'temperature': 0.5\n",
        "}\n",
        "\n",
        "safety_settings = [\n",
        "  {\n",
        "    \"category\": \"HARM_CATEGORY_HARASSMENT\",\n",
        "    \"threshold\": \"BLOCK_MEDIUM_AND_ABOVE\",\n",
        "  },\n",
        "  {\n",
        "    \"category\": \"HARM_CATEGORY_HATE_SPEECH\",\n",
        "    \"threshold\": \"BLOCK_MEDIUM_AND_ABOVE\",\n",
        "  },\n",
        "  {\n",
        "    \"category\": \"HARM_CATEGORY_SEXUALLY_EXPLICIT\",\n",
        "    \"threshold\": \"BLOCK_MEDIUM_AND_ABOVE\",\n",
        "  },\n",
        "  {\n",
        "    \"category\": \"HARM_CATEGORY_DANGEROUS_CONTENT\",\n",
        "    \"threshold\": \"BLOCK_MEDIUM_AND_ABOVE\",\n",
        "  },\n",
        "]"
      ],
      "metadata": {
        "id": "6aSlth6U7Fik"
      },
      "execution_count": 2,
      "outputs": []
    },
    {
      "cell_type": "code",
      "source": [
        "#INICTIALIZE THE MODEL\n",
        "model = genai.GenerativeModel(model_name=\"gemini-1.0-pro\", safety_settings=safety_settings,\n",
        "generation_config=generation_config);\n",
        "\n",
        "'''\n",
        "return model name\n",
        "return generation config infos(candidate_count, temperature....)\n",
        "return safety settings info\n",
        "'''\n",
        "print(model)\n"
      ],
      "metadata": {
        "colab": {
          "base_uri": "https://localhost:8080/"
        },
        "id": "zFG4Asbs-B6o",
        "outputId": "9a6f529a-5058-471a-e476-5d689db00fca"
      },
      "execution_count": 3,
      "outputs": [
        {
          "output_type": "stream",
          "name": "stdout",
          "text": [
            "genai.GenerativeModel(\n",
            "    model_name='models/gemini-1.0-pro',\n",
            "    generation_config={'candidate_count': 1, 'temperature': 0.5},\n",
            "    safety_settings={<HarmCategory.HARM_CATEGORY_HARASSMENT: 7>: <HarmBlockThreshold.BLOCK_MEDIUM_AND_ABOVE: 2>, <HarmCategory.HARM_CATEGORY_HATE_SPEECH: 8>: <HarmBlockThreshold.BLOCK_MEDIUM_AND_ABOVE: 2>, <HarmCategory.HARM_CATEGORY_SEXUALLY_EXPLICIT: 9>: <HarmBlockThreshold.BLOCK_MEDIUM_AND_ABOVE: 2>, <HarmCategory.HARM_CATEGORY_DANGEROUS_CONTENT: 10>: <HarmBlockThreshold.BLOCK_MEDIUM_AND_ABOVE: 2>},\n",
            "    tools=None,\n",
            "    system_instruction=None,\n",
            ")\n"
          ]
        }
      ]
    },
    {
      "cell_type": "code",
      "source": [
        "# CREATING A SIMPLE CHATBOT QUESTION\n",
        "\n",
        "response = model.generate_content(\"Qual a capital do Brasil?\")\n",
        "\n",
        "print(response.text);\n"
      ],
      "metadata": {
        "colab": {
          "base_uri": "https://localhost:8080/",
          "height": 34
        },
        "id": "H9QFd4BDF8ll",
        "outputId": "e2b846d0-d89d-41bc-fa17-4cb8bb4ef38a"
      },
      "execution_count": null,
      "outputs": [
        {
          "output_type": "stream",
          "name": "stdout",
          "text": [
            "Brasília\n"
          ]
        }
      ]
    },
    {
      "cell_type": "code",
      "source": [
        "# creating a chat\n",
        "\n",
        "chat = model.start_chat(history = []);\n",
        "prompt = input('Esperando prompt:');\n",
        "\n",
        "while(prompt != 'fim'):\n",
        "  response = chat.send_message(prompt);\n",
        "  print(response.text);\n",
        "  prompt = input('Esperando prompt:');"
      ],
      "metadata": {
        "id": "C33fgz5PL7Z_",
        "collapsed": true
      },
      "execution_count": null,
      "outputs": []
    }
  ]
}